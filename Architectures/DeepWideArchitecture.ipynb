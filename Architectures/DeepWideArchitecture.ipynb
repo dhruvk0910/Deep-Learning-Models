{
 "cells": [
  {
   "cell_type": "code",
   "execution_count": 7,
   "metadata": {},
   "outputs": [],
   "source": [
    "import tensorflow as tf\n",
    "from tensorflow import keras\n",
    "from tensorflow.keras.models import Sequential,Model\n",
    "from tensorflow.keras.layers import Dense,Input"
   ]
  },
  {
   "cell_type": "code",
   "execution_count": null,
   "metadata": {},
   "outputs": [],
   "source": [
    "class WideandDeepModel(tf.keras.Model):\n",
    "    def __init__(self,units=30,activation='relu',**kwargs):\n",
    "        super().__init__(**kwargs)\n",
    "        self.norm_layer_wide=tf.keras.layers.Normalization()\n",
    "        self.norm_layer_deep=tf.keras.layers.Normalization()\n",
    "        self.hidden1=tf.keras.layers.Dense(units,activation=activation)\n",
    "        self.hidden2=tf.keras.layers.Dense(units,activation=activation)\n",
    "        self.main_output=tf.keras.layers.Dense(1)\n",
    "        self.aux_output=tf.keras.layers.Dense(1)\n",
    "\n",
    "\n",
    "    def call(self,inputs):\n",
    "        input_wide,input_deep=inputs\n",
    "        norm_wide=self.norm_layer_wide(input_wide)\n",
    "        norm_deep=self.norm_layer_deep(input_deep)\n",
    "        hidden1=self.hidden1(norm_deep)\n",
    "        hidden2=self.hidden2(hidden1)\n",
    "        concat=tf.keras.layers.Concatenate([norm_wide,hidden2])\n",
    "        output=self.main_output(concat)\n",
    "        aux_output=self.aux_output(hidden2)\n",
    "        return output,aux_output\n",
    "    \n",
    "\n",
    "model=WideandDeepModel(30,activation='relu',name=\"my_model\")    "
   ]
  }
 ],
 "metadata": {
  "kernelspec": {
   "display_name": "Python 3",
   "language": "python",
   "name": "python3"
  },
  "language_info": {
   "codemirror_mode": {
    "name": "ipython",
    "version": 3
   },
   "file_extension": ".py",
   "mimetype": "text/x-python",
   "name": "python",
   "nbconvert_exporter": "python",
   "pygments_lexer": "ipython3",
   "version": "3.12.9"
  }
 },
 "nbformat": 4,
 "nbformat_minor": 2
}
