{
 "cells": [
  {
   "cell_type": "code",
   "execution_count": 1,
   "metadata": {},
   "outputs": [],
   "source": [
    "import tensorflow as tf\n",
    "from tensorflow import keras\n",
    "import keras_tuner as kt"
   ]
  },
  {
   "cell_type": "code",
   "execution_count": 3,
   "metadata": {},
   "outputs": [],
   "source": [
    "class MyclassificationHyperModel(kt.HyperModel):\n",
    "    def build(self,hp):\n",
    "        n_hidden=hp.Int(\"n_hidden\",min_value=0,max_value=8,default=2)\n",
    "        n_neurons=hp.Int(\"n_neurons\",min_value=16,max_value=256)\n",
    "        learning_rate=hp.Float(\"learning_rate\",min_value=1e-4,max_value=1e-2,sampling=\"log\")\n",
    "        optimizer=hp.Choice(\"optimizer\",values=[\"sgd\",\"adam\"])\n",
    "\n",
    "        if optimizer==\"sgd\":\n",
    "            optimizer=tf.keras.optimizers.SGD(learning_rate=learning_rate)\n",
    "        else:\n",
    "            optimizer=tf.keras.optimizers.Adam(learning_rate=learning_rate)\n",
    "\n",
    "        model=tf.keras.Sequential()\n",
    "        model.add(tf.keras.layers.Flatten())\n",
    "        for _ in range(n_hidden):\n",
    "            model.add(tf.keras.layers.Dense(n_neurons,activation='relu'))  \n",
    "\n",
    "        model.add(tf.keras.layers.Dense(10,activation='softmax'))\n",
    "        model.compile(loss='sparse_categorical_crossentropy',optimizer=optimizer,metrics=[\"accuracy\"])\n",
    "        return model\n",
    "\n",
    "    def fit(self, hp, model, *args, **kwargs):\n",
    "        if hp.Boolean(\"normalize\"):\n",
    "            norm_layer=tf.keras.layers.Normalization()\n",
    "            X=norm_layer(X)\n",
    "\n",
    "        return model.fit(*args,**kwargs)              "
   ]
  },
  {
   "cell_type": "markdown",
   "metadata": {},
   "source": [
    "USING HYPERBAND "
   ]
  },
  {
   "cell_type": "code",
   "execution_count": 4,
   "metadata": {},
   "outputs": [],
   "source": [
    "hyperband_tuner=kt.Hyperband(\n",
    "    MyclassificationHyperModel(),objective=\"val_accuracy\",seed=42,max_epochs=10,factor=3,hyperband_iterations=2,overwrite=True,\n",
    "    directory=\"my_fashion_mnist\",project_name=\"hyperband\"\n",
    ")"
   ]
  },
  {
   "cell_type": "markdown",
   "metadata": {},
   "source": [
    "USING BAYESIAN OPTIMIZATION"
   ]
  },
  {
   "cell_type": "code",
   "execution_count": 5,
   "metadata": {},
   "outputs": [],
   "source": [
    "bayesian_opt_tuner=kt.BayesianOptimization(\n",
    "    MyclassificationHyperModel(),objective=\"val_accuracy\",seed=42,max_trials=10,alpha=1e-4,beta=2.6,\n",
    "    overwrite=True,directory=\"my_fashion_mnist\",project_name=\"bayesian_opt\"\n",
    ")"
   ]
  },
  {
   "cell_type": "code",
   "execution_count": null,
   "metadata": {},
   "outputs": [],
   "source": []
  }
 ],
 "metadata": {
  "kernelspec": {
   "display_name": "Python 3",
   "language": "python",
   "name": "python3"
  },
  "language_info": {
   "codemirror_mode": {
    "name": "ipython",
    "version": 3
   },
   "file_extension": ".py",
   "mimetype": "text/x-python",
   "name": "python",
   "nbconvert_exporter": "python",
   "pygments_lexer": "ipython3",
   "version": "3.12.9"
  }
 },
 "nbformat": 4,
 "nbformat_minor": 2
}
